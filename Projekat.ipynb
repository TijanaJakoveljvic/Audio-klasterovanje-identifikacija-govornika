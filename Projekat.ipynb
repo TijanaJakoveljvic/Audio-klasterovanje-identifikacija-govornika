{
 "cells": [
  {
   "cell_type": "code",
   "execution_count": 2,
   "metadata": {
    "collapsed": false
   },
   "outputs": [],
   "source": [
    "import numpy as np\n",
    "import scipy as sp\n",
    "import matplotlib.pyplot as plt\n",
    "from sklearn import datasets\n",
    "import scipy.signal\n",
    "import scipy.cluster.vq as vq\n",
    "import scipy.io.wavfile as wav\n",
    "import python_speech_features as speech\n",
    "from sklearn import mixture\n",
    "from sklearn.mixture import GaussianMixture as gmm\n",
    "import scipy.spatial.distance as dist"
   ]
  },
  {
   "cell_type": "code",
   "execution_count": 3,
   "metadata": {
    "collapsed": true
   },
   "outputs": [],
   "source": [
    "def BIC(k, Koefs, Covs, N, penalty):\n",
    "    return 0.5*N[Koefs[k][0]]* np.log(np.linalg.det(Covs[Koefs[k][0]])) + 0.5*N[Koefs[k][1]] * np.log(np.linalg.det(Covs[Koefs[k][1]]))-0.5* (N[Koefs[k][0]]+N[Koefs[k][1]])*np.log(np.linalg.det(Covs[Koefs[k][0]][:3600, :3600], Covs[Koefs[k][1]][:3600, :3600])) + penalty(2.5*(N[Koefs[k][0]]+N[Koefs[k][1]]))"
   ]
  },
  {
   "cell_type": "code",
   "execution_count": null,
   "metadata": {
    "collapsed": false
   },
   "outputs": [],
   "source": [
    "def fit_samples(samples):\n",
    "\tgmix = mixture.GaussianMixture(n_components=5, covariance_type='full')\n",
    "\tgmix.fit(samples)\n",
    "\treturn (gmix.means_) #ovo su centroide\n",
    "\n",
    "#glavna funkcija:\n",
    "def calculate(Sigs, num, penalty):\n",
    "    mfcc_feat = np.copy(speech.mfcc(Sigs[0]))\n",
    "    Means = np.zeros((1, num))\n",
    "    N = np.zeros((1, num))#mfcc lengths\n",
    "    Covs = []\n",
    "    Freqs = []\n",
    "    \n",
    "    for i in range(0, num):\n",
    "        mfcc = speech.mfcc(Sigs[i])\n",
    "        if(i>0):\n",
    "            mfcc_feat = np.vstack((mfcc_feat, speech.mfcc(Sigs[i])))\n",
    "        Means[0][i] = np.mean(mfcc)\n",
    "        N[0][i] = mfcc.shape[0]\n",
    "        Covs.append(np.cov(mfcc))\n",
    "\n",
    "    gmms = fit_samples(mfcc_feat)\n",
    "    vq.whiten(mfcc_feat)\n",
    "    kmeans = vq.kmeans(obs=mfcc_feat, k_or_guess=gmms)\n",
    "    \n",
    "    for i in range(0, num):\n",
    "        freq = kmeans[0][i]\n",
    "        freq_sum = np.sum(freq)\n",
    "        freq = (freq_sum - freq)/freq_sum\n",
    "        Freqs.append(freq)\n",
    "    \n",
    "    M = np.zeros((num,num))\n",
    "    for i in range(0,num):\n",
    "        for j in range(0,num):\n",
    "            if(i==j):\n",
    "                M[i][j]=0\n",
    "            else:\n",
    "                M[i][j] = np.abs(dist.cosine(Freqs[i], Freqs[j]))\n",
    "                \n",
    "    Koefs = []\n",
    "    for i in range(0, num):\n",
    "        Koefs.append([0,0])\n",
    "    MaxVals = np.zeros((num))\n",
    "    \n",
    "    #racunanje N najblizih koeficijenata\n",
    "    for i in range(0,num-1):\n",
    "        for j in range(2,num):\n",
    "            if(j>i):\n",
    "                \n",
    "                for i in range(0,num):\n",
    "                    if(M[i][j]>=MaxVals[i]):\n",
    "                        for k in range(i+1, num):\n",
    "                            MaxVals[k]=MaxVals[k-1]\n",
    "                            Koefs[k] = Koefs[k-1]\n",
    "                        MaxVals[i] = M[i][j]\n",
    "                        Koefs[i] = [i,j]\n",
    "                        \n",
    "    #racunanje najveceg BIC\n",
    "    Bics = []\n",
    "    for i in range(0, num):\n",
    "        Bics.append(0)\n",
    "        \n",
    "    for i in range(0, num):\n",
    "        Bics[i] = BIC(i, Koefs, Covs, N, penalty)\n",
    "    \n",
    "    max_bic = Bics[0]\n",
    "    for i in range(1,num):\n",
    "        if(Bics[i]>max_bic):\n",
    "            max_bic = Bics[i]\n",
    "            max_i = i\n",
    "            \n",
    "    if(max_bic<0):\n",
    "        return (Sigs, -1)\n",
    "    \n",
    "    [i,j] = Koefs[max_i]\n",
    "    sig_new = 0.5*Sigs[i]+0.5*Sigs[j]\n",
    "    Sigs_new = []\n",
    "    \n",
    "    for k in range (0,num):\n",
    "        if(k!=i and k!=j):\n",
    "            Sigs_new.append(Sigs[k])\n",
    "            \n",
    "    return (Sigs_new, 1)"
   ]
  },
  {
   "cell_type": "code",
   "execution_count": null,
   "metadata": {
    "collapsed": false
   },
   "outputs": [],
   "source": [
    "(rate,sig1) = wav.read(\"richard3.wav\")\n",
    "(rate,sig2) = wav.read(\"amy3.wav\")\n",
    "(rate,sig3) = wav.read(\"derek3.wav\")\n",
    "(rate,sig4) = wav.read(\"paolo3.wav\")\n",
    "(rate,sig5) = wav.read(\"nilofer3.wav\")\n",
    "\n",
    "People =[sig1, sig2, sig3, sig4, sig5]\n",
    "Sigs=[]\n",
    "\n",
    "k=1\n",
    "for sig in People:\n",
    "    while((1000*k)<sig.shape[0]):\n",
    "        Sigs.append(sig[(k-1)*1000: k*1000])\n",
    "\n",
    "len(Sigs)\n",
    "ind = 1\n",
    "num = len(Sigs)\n",
    "while(ind>0):\n",
    "    (Sigs, ind) = calculate(Sigs, num, ind)\n",
    "    num = num-1\n",
    "\n",
    "Sigs"
   ]
  },
  {
   "cell_type": "code",
   "execution_count": null,
   "metadata": {
    "collapsed": true
   },
   "outputs": [],
   "source": []
  }
 ],
 "metadata": {
  "kernelspec": {
   "display_name": "Python 3",
   "language": "python",
   "name": "python3"
  },
  "language_info": {
   "codemirror_mode": {
    "name": "ipython",
    "version": 3
   },
   "file_extension": ".py",
   "mimetype": "text/x-python",
   "name": "python",
   "nbconvert_exporter": "python",
   "pygments_lexer": "ipython3",
   "version": "3.6.0"
  }
 },
 "nbformat": 4,
 "nbformat_minor": 2
}
