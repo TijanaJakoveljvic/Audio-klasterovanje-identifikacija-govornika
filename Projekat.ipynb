{
 "cells": [
  {
   "cell_type": "code",
   "execution_count": 1,
   "metadata": {
    "collapsed": false
   },
   "outputs": [],
   "source": [
    "import numpy as np\n",
    "import scipy as sp\n",
    "import matplotlib.pyplot as plt\n",
    "from sklearn import metrics\n",
    "from sklearn.cluster import KMeans\n",
    "import scipy.signal\n",
    "import scipy.cluster.vq as vq\n",
    "import scipy.io.wavfile as wav\n",
    "import python_speech_features as speech\n",
    "from sklearn import mixture\n",
    "from sklearn.mixture import GaussianMixture as gmm\n",
    "import scipy.spatial.distance as dist\n",
    "import math"
   ]
  },
  {
   "cell_type": "code",
   "execution_count": 271,
   "metadata": {
    "collapsed": false
   },
   "outputs": [],
   "source": [
    "def BIC(k, Sigs, Koefs, Lengths, penalty):\n",
    "    P1 = Lengths[Koefs[k][0]]* np.log(np.abs(np.cov(Sigs[Koefs[k][0]])+0.0001))\n",
    "    P2 = Lengths[Koefs[k][1]] * np.log(np.abs(np.cov(Sigs[Koefs[k][1]])+0.0001))\n",
    "    P3 = (Lengths[Koefs[k][0]]+Lengths[Koefs[k][1]])*np.log(np.abs(np.linalg.det(np.cov(Sigs[Koefs[k][0]], Sigs[Koefs[k][1]]))+0.0001))\n",
    "    bic= 0.5*P1 + 0.5*P2-0.5*P3  + penalty*(2.5*(Lengths[Koefs[k][0]]+Lengths[Koefs[k][1]]))\n",
    "    return bic"
   ]
  },
  {
   "cell_type": "code",
   "execution_count": 272,
   "metadata": {
    "collapsed": false
   },
   "outputs": [],
   "source": [
    "def fit_samples(samples, num):\n",
    "\tgmix = mixture.GaussianMixture(n_components=num, covariance_type='full')\n",
    "\tgmix.fit(samples)\n",
    "\treturn (gmix.means_)\n",
    "\n",
    "#glavna funkcija:\n",
    "def calculate(Means, Mfccs, Sigs, Lengths, Freqs, M, num, penalty):\n",
    "    N = min(num, 25)\n",
    "    \n",
    "    global ind\n",
    "    \n",
    "    Koefs = []\n",
    "    for i in range(0, N):\n",
    "        Koefs.append([0,0])\n",
    "    \n",
    "    MaxVals = np.zeros((N))\n",
    "    \n",
    "    #racunanje N najblizih koeficijenata\n",
    "    for i in range(0,num-1):\n",
    "        for j in range(2,num):\n",
    "            if(j>i and i not in Merged and j not in Merged):\n",
    "                \n",
    "                for l in range(0,N):\n",
    "                    if(M[i][j]>=MaxVals[l]):\n",
    "                        for k in range(N, l+1):\n",
    "                            MaxVals[k]=MaxVals[k-1]\n",
    "                            Koefs[k] = Koefs[k-1]\n",
    "                        MaxVals[l] = M[i][j]\n",
    "                        Koefs[l] = [i,j]\n",
    "                        break\n",
    "        \n",
    "    #racunanje najveceg BIC\n",
    "    Bics = []\n",
    "        \n",
    "    for i in range(0, N):\n",
    "        if(Koefs[i] == [0,0]):\n",
    "            N = N-1\n",
    "            continue\n",
    "        Bics.append(BIC(i, Sigs, Koefs, Lengths, penalty))\n",
    "    \n",
    "    if(len(Bics)<=1):\n",
    "        ind =-1\n",
    "        return\n",
    "        \n",
    "    max_bic = Bics[0]\n",
    "    max_i=0\n",
    "    for i in range(1,N):\n",
    "        if(Bics[i]>max_bic):\n",
    "            max_bic = Bics[i]\n",
    "            max_i = i\n",
    "        \n",
    "    Means_new = []\n",
    "    Mfccs_new = []\n",
    "    Sigs_new = []\n",
    "    Lengths_new = []\n",
    "    Freqs_new = []\n",
    "    M_new = np.zeros((num+1, num+1))\n",
    "    \n",
    "    if(max_bic<0):\n",
    "        return (Means_new, Mfccs_new, Sigs, Lengths_new, Freqs_new, M_new, -1)\n",
    "    \n",
    "    [i,j] = Koefs[max_i]\n",
    "    spoji_klastere(i, j)\n",
    "    sig_new = 0.5*Sigs[i]+0.5*Sigs[j]\n",
    "    means_new = 0.5*Means[i]+0.5*Means[j]\n",
    "    \n",
    "    for k in range (0,num):\n",
    "        Sigs_new.append(Sigs[k])\n",
    "        Mfccs_new.append(Mfccs[k])\n",
    "        Means_new.append(Means[k])\n",
    "        Lengths_new.append(Mfccs[k].shape[0])\n",
    "        Freqs_new.append(Freqs[k])\n",
    "        Merged.append(i)\n",
    "        Merged.append(j)\n",
    "    \n",
    "    for k in range(0, num):\n",
    "        for l in range(0, num):\n",
    "            M_new[k][l] = M[k][l]\n",
    "\n",
    "    freq = means_new\n",
    "    freq_sum = np.sum(freq)\n",
    "    freq = (freq_sum - freq)/freq_sum\n",
    "    \n",
    "    for k in range(0, num):\n",
    "        M_new[k][num] = np.abs(dist.cosine(Freqs[k], freq))\n",
    "               \n",
    "    Lengths_new.append(speech.mfcc(sig_new).shape[0])\n",
    "    Means_new.append(means_new)        \n",
    "    Mfccs_new.append(speech.mfcc(sig_new))\n",
    "    Sigs_new.append(sig_new)\n",
    "    Freqs_new.append(freq)\n",
    "    return (Means_new, Mfccs_new, Sigs_new, Lengths_new, Freqs_new, M_new, 1)"
   ]
  },
  {
   "cell_type": "code",
   "execution_count": 273,
   "metadata": {
    "collapsed": true
   },
   "outputs": [],
   "source": [
    "def spoji_klastere(i, j):   \n",
    "    global Clusters_Pred\n",
    "    global num1\n",
    "    global num\n",
    "    \n",
    "    clust_1 = min(Clusters_Pred[i], Clusters_Pred[j])\n",
    "    clust_2 = max(Clusters_Pred[i], Clusters_Pred[j])\n",
    "    \n",
    "    for k in range(0, len(Clusters_Pred)):\n",
    "            if(Clusters_Pred[k]==clust_2):\n",
    "                Clusters_Pred[k]=clust_1\n",
    "    \n",
    "    if(clust_1!=clust_2):\n",
    "        Clusters_Pred.append(clust_1)\n",
    "    else:\n",
    "        num = num-1\n"
   ]
  },
  {
   "cell_type": "code",
   "execution_count": 274,
   "metadata": {
    "collapsed": false
   },
   "outputs": [],
   "source": [
    "(rate,sig1) = wav.read(\"richard3.wav\")\n",
    "(rate,sig2) = wav.read(\"amy3.wav\")\n",
    "(rate,sig3) = wav.read(\"derek3.wav\")\n",
    "(rate,sig4) = wav.read(\"paolo3.wav\")\n",
    "(rate,sig5) = wav.read(\"nilofer3.wav\")\n",
    "\n",
    "People =[sig1, sig2, sig3, sig4, sig5]\n",
    "Sigs=[]\n",
    "\n",
    "Clusters_True = []\n",
    "Clusters_Pred = []\n",
    "Clusters_Temp = []\n",
    "\n",
    "k=1\n",
    "c = 0\n",
    "for sig in People:\n",
    "    while((3000*k)<sig.shape[0] and k<30):\n",
    "        if(sig.ndim==1):\n",
    "            k = k+1\n",
    "            continue\n",
    "        else:\n",
    "            sign1 = sig[(k-1)*3000: k*3000]\n",
    "            Sigs.append(sign1[:,0])\n",
    "            Clusters_True.append(c)\n",
    "        k = k+1\n",
    "    k=1\n",
    "    c = c+1\n",
    "    \n",
    "for i in range(0, len(Clusters_True)):\n",
    "    Clusters_Pred.append(i)\n",
    "    Clusters_Temp.append(-1)\n",
    "    \n",
    "num = len(Sigs)\n",
    "br_klast = 0\n",
    "        \n",
    "num1 = len(Sigs)\n",
    "    \n",
    "mfcc_feat = np.copy(speech.mfcc(Sigs[0]))\n",
    "Lengths = []#mfcc lengths\n",
    "Mfccs = []\n",
    "Freqs = []\n",
    "Merged = []\n",
    "    \n",
    "for i in range(0, num):\n",
    "    mfcc = speech.mfcc(Sigs[i])\n",
    "    Mfccs.append(mfcc)\n",
    "    if(i>0):\n",
    "         mfcc_feat = np.vstack((mfcc_feat, speech.mfcc(Sigs[i])))\n",
    "    Lengths.append(mfcc.shape[0])   \n",
    "    \n",
    "Means = fit_samples(mfcc_feat, num)\n",
    "\n",
    "for i in range(0, num):\n",
    "    freq = Means[i]\n",
    "    freq_sum = np.sum(freq)\n",
    "    freq = (freq_sum - freq)/freq_sum\n",
    "    Freqs.append(freq)\n",
    "    \n",
    "M = np.zeros((num,num))\n",
    "for i in range(0,num):\n",
    "    for j in range(0,num):\n",
    "        if(i==j):\n",
    "            M[i][j]=0\n",
    "        else:\n",
    "            M[i][j] = np.abs(dist.cosine(Freqs[i], Freqs[j]))\n",
    "        "
   ]
  },
  {
   "cell_type": "code",
   "execution_count": 275,
   "metadata": {
    "collapsed": false
   },
   "outputs": [],
   "source": [
    "ind = 1\n",
    "br_izb = 0\n",
    "penalty = 3.0\n",
    "SigTest = Sigs\n",
    "\n",
    "while(ind>0 and num<1.5*num1):\n",
    "    (Means, Mfccs, Sigs, Lengths, Freqs, M, ind) = calculate(Means, Mfccs, Sigs, Lengths, Freqs, M, num, penalty)\n",
    "    num = num+1\n",
    "    \n",
    "Clusters_Pred = Clusters_Pred[0:num1]"
   ]
  },
  {
   "cell_type": "code",
   "execution_count": 269,
   "metadata": {
    "collapsed": false
   },
   "outputs": [
    {
     "data": {
      "text/plain": [
       "0.034502890606896916"
      ]
     },
     "execution_count": 269,
     "metadata": {},
     "output_type": "execute_result"
    }
   ],
   "source": [
    "metrics.adjusted_mutual_info_score(Clusters_True, Clusters_Pred[0:num1])"
   ]
  },
  {
   "cell_type": "code",
   "execution_count": 270,
   "metadata": {
    "collapsed": false
   },
   "outputs": [
    {
     "data": {
      "text/plain": [
       "0.080020519988401762"
      ]
     },
     "execution_count": 270,
     "metadata": {},
     "output_type": "execute_result"
    }
   ],
   "source": [
    "metrics.adjusted_rand_score(Clusters_True, Clusters_Pred[0:num1])"
   ]
  },
  {
   "cell_type": "code",
   "execution_count": 258,
   "metadata": {
    "collapsed": false
   },
   "outputs": [
    {
     "name": "stdout",
     "output_type": "stream",
     "text": [
      "[0, 1, 2, 1, 1, 5, 6, 7, 1, 9, 10, 11, 12, 13, 1, 15, 1, 17, 1, 19, 1, 21, 1, 23, 24, 25, 26, 27, 28, 29, 1, 31, 32, 33, 34, 1, 36, 37, 38, 1, 40, 1, 1, 1, 44, 1, 1, 1, 48, 1, 50, 1, 1, 1, 1, 1, 1, 57, 58, 59, 60, 1, 1, 1, 1, 1, 1, 1, 1, 1, 1, 1, 1, 73, 1, 1]\n"
     ]
    }
   ],
   "source": [
    "print(Clusters_Pred[0:num1] )"
   ]
  },
  {
   "cell_type": "code",
   "execution_count": null,
   "metadata": {
    "collapsed": true
   },
   "outputs": [],
   "source": []
  },
  {
   "cell_type": "code",
   "execution_count": null,
   "metadata": {
    "collapsed": true
   },
   "outputs": [],
   "source": []
  },
  {
   "cell_type": "code",
   "execution_count": null,
   "metadata": {
    "collapsed": true
   },
   "outputs": [],
   "source": []
  },
  {
   "cell_type": "code",
   "execution_count": null,
   "metadata": {
    "collapsed": true
   },
   "outputs": [],
   "source": []
  }
 ],
 "metadata": {
  "kernelspec": {
   "display_name": "Python 3",
   "language": "python",
   "name": "python3"
  },
  "language_info": {
   "codemirror_mode": {
    "name": "ipython",
    "version": 3
   },
   "file_extension": ".py",
   "mimetype": "text/x-python",
   "name": "python",
   "nbconvert_exporter": "python",
   "pygments_lexer": "ipython3",
   "version": "3.6.0"
  }
 },
 "nbformat": 4,
 "nbformat_minor": 2
}
