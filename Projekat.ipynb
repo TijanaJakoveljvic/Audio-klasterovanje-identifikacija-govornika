{
 "cells": [
  {
   "cell_type": "code",
   "execution_count": 319,
   "metadata": {
    "collapsed": true
   },
   "outputs": [],
   "source": [
    "import numpy as np\n",
    "import scipy as sp\n",
    "import matplotlib.pyplot as plt\n",
    "from sklearn import metrics\n",
    "from sklearn.cluster import KMeans\n",
    "import scipy.signal\n",
    "import scipy.cluster.vq as vq\n",
    "import scipy.io.wavfile as wav\n",
    "import python_speech_features as speech\n",
    "from sklearn import mixture\n",
    "from sklearn.mixture import GaussianMixture as gmm\n",
    "import scipy.spatial.distance as dist\n",
    "import math"
   ]
  },
  {
   "cell_type": "code",
   "execution_count": 320,
   "metadata": {
    "collapsed": true
   },
   "outputs": [],
   "source": [
    "def BIC(k, Sigs, Koefs, Lengths, penalty):\n",
    "    P1 = Lengths[Koefs[k][0]]* np.log(np.abs(np.cov(Sigs[Koefs[k][0]])+0.0001))\n",
    "    P2 = Lengths[Koefs[k][1]] * np.log(np.abs(np.cov(Sigs[Koefs[k][1]])+0.0001))\n",
    "    P3 = (Lengths[Koefs[k][0]]+Lengths[Koefs[k][1]])*np.log(np.abs(np.linalg.det(np.cov(Sigs[Koefs[k][0]], Sigs[Koefs[k][1]]))+0.0001))\n",
    "    bic= 0.5*P1 + 0.5*P2-0.5*P3  + penalty*(2.5*(Lengths[Koefs[k][0]]+Lengths[Koefs[k][1]]))\n",
    "    return bic"
   ]
  },
  {
   "cell_type": "code",
   "execution_count": 321,
   "metadata": {
    "collapsed": true
   },
   "outputs": [],
   "source": [
    "def fit_samples(samples, num):\n",
    "\tgmix = mixture.GaussianMixture(n_components=num, covariance_type='full')\n",
    "\tgmix.fit(samples)\n",
    "\treturn (gmix.means_)\n",
    "\n",
    "#glavna funkcija:\n",
    "def calculate(Means, Mfccs, Sigs, Lengths, Freqs, M, num, penalty):\n",
    "    N = min(num, 25)\n",
    "    \n",
    "    global ind\n",
    "    \n",
    "    Koefs = []\n",
    "    for i in range(0, N):\n",
    "        Koefs.append([0,0])\n",
    "    \n",
    "    MaxVals = np.zeros((N))\n",
    "    \n",
    "    #racunanje N najblizih koeficijenata\n",
    "    for i in range(0,num-1):\n",
    "        for j in range(2,num):\n",
    "            if(j>i):\n",
    "                \n",
    "                for l in range(0,N):\n",
    "                    if(M[i][j]>=MaxVals[l]):\n",
    "                        for k in range(N, l+1):\n",
    "                            MaxVals[k]=MaxVals[k-1]\n",
    "                            Koefs[k] = Koefs[k-1]\n",
    "                        MaxVals[l] = M[i][j]\n",
    "                        Koefs[l] = [i,j]\n",
    "                        break\n",
    "        \n",
    "    #racunanje najveceg BIC\n",
    "    Bics = []\n",
    "        \n",
    "    for i in range(0, N):\n",
    "        if(Koefs[i] == [0,0]):\n",
    "            N = N-1\n",
    "            continue\n",
    "        Bics.append(BIC(i, Sigs, Koefs, Lengths, penalty))\n",
    "    \n",
    "    if(len(Bics)<=1):\n",
    "        ind =-1\n",
    "        return\n",
    "        \n",
    "    max_bic = Bics[0]\n",
    "    max_i=0\n",
    "    for i in range(1,N):\n",
    "        if(Bics[i]>max_bic):\n",
    "            max_bic = Bics[i]\n",
    "            max_i = i\n",
    "        \n",
    "    Means_new = []\n",
    "    Mfccs_new = []\n",
    "    Sigs_new = []\n",
    "    Lengths_new = []\n",
    "    Freqs_new = []\n",
    "    M_new = np.zeros((num, num))\n",
    "    \n",
    "    if(max_bic<0):\n",
    "        return (Means_new, Mfccs_new, Sigs, Lengths_new, Freqs_new, M_new, -1)\n",
    "    \n",
    "    [i,j] = Koefs[max_i]\n",
    "    spoji_klastere(i, j)\n",
    "    sig_new = 0.5*Sigs[i]+0.5*Sigs[j]\n",
    "    means_new = 0.5*Means[i]+0.5*Means[j]\n",
    "    \n",
    "    for k in range (0,num):\n",
    "        if(k!=i and k!=j):\n",
    "            Sigs_new.append(Sigs[k])\n",
    "            Mfccs_new.append(Mfccs[k])\n",
    "            Means_new.append(Means[k])\n",
    "            Lengths_new.append(Mfccs[k].shape[0])\n",
    "            Freqs_new.append(Freqs[k])\n",
    "    \n",
    "    for k in range(0, num-1):\n",
    "        if(k<i):\n",
    "            for l in range(0, num-1):\n",
    "                if(l<i):\n",
    "                    M_new[k][l]=M[k][l]\n",
    "                else:\n",
    "                    M_new[k][l]=M[k][l+1]\n",
    "        else:\n",
    "            for l in range(0, num-1):\n",
    "                if(l<i):\n",
    "                    M_new[k][l]=M[k+1][l]\n",
    "                else:\n",
    "                    M_new[k][l]=M[k+1][l+1]\n",
    "                    \n",
    "    for k in range(0, num-1):\n",
    "        if(k<j):\n",
    "            for l in range(0, num-1):\n",
    "                if(l<j):\n",
    "                    M_new[k][l]=M[k][l]\n",
    "                else:\n",
    "                    M_new[k][l]=M[k][l+1]\n",
    "        else:\n",
    "            for l in range(0, num-1):\n",
    "                if(l<j):\n",
    "                    M_new[k][l]=M[k+1][l]\n",
    "                else:\n",
    "                    M_new[k][l]=M[k+1][l+1]\n",
    "\n",
    "    freq = means_new\n",
    "    freq_sum = np.sum(freq)\n",
    "    freq = (freq_sum - freq)/freq_sum\n",
    "    \n",
    "    for k in range(0, num-2):\n",
    "        M_new[num-2][k] = np.abs(dist.cosine(Freqs[k], freq))\n",
    "               \n",
    "    Lengths_new.append(speech.mfcc(sig_new).shape[0])\n",
    "    Means_new.append(means_new)        \n",
    "    Mfccs_new.append(speech.mfcc(sig_new))\n",
    "    Sigs_new.append(sig_new)\n",
    "    Freqs_new.append(freq)\n",
    "    return (Means_new, Mfccs_new, Sigs_new, Lengths_new, Freqs_new, M_new, 1)"
   ]
  },
  {
   "cell_type": "code",
   "execution_count": 322,
   "metadata": {
    "collapsed": true
   },
   "outputs": [],
   "source": [
    "def spoji_klastere(i, j):   \n",
    "    global Clusters_Temp\n",
    "    global Clusters_Pred\n",
    "    global Clusters_True\n",
    "    global br_izb\n",
    "    \n",
    "    if(i >= num-br_izb and j>=num-br_izb):\n",
    "        clust_1 = min(Clusters_Temp[i], Clusters_Temp[j])\n",
    "        clust_2 = max(Clusters_Temp[i], Clusters_Temp[j])\n",
    "        br_izb = br_izb-1\n",
    "    elif(i < num-br_izb and j>= num-br_izb): \n",
    "        clust_1 = min(Clusters_Pred[i], Clusters_Temp[j])\n",
    "        clust_2 = max(Clusters_Pred[i], Clusters_Temp[j])\n",
    "    else:\n",
    "        clust_1 = min(Clusters_Pred[i], Clusters_Pred[j])\n",
    "        clust_2 = max(Clusters_Pred[i], Clusters_Pred[j])\n",
    "        br_izb = br_izb+1\n",
    "    \n",
    "    for k in range(0, len(Clusters_Pred)):\n",
    "            if(Clusters_Pred[k]==clust_2):\n",
    "                Clusters_Pred[k]=clust_1\n",
    "                \n",
    "    for k in range(0, len(Clusters_Temp)):\n",
    "            if(Clusters_Temp[k]==clust_2):\n",
    "                Clusters_Temp[k]=clust_1\n",
    "    \n",
    "    leng = len(Clusters_Temp)\n",
    "    Clusters_Temp1 = []\n",
    "    for k in range(0, leng):\n",
    "        if(k!=i and k!=j):\n",
    "            Clusters_Temp1.append(Clusters_Temp[k])\n",
    "    \n",
    "    Clusters_Temp1.append(clust_1)\n",
    "    \n",
    "    Clusters_Temp = Clusters_Temp1"
   ]
  },
  {
   "cell_type": "code",
   "execution_count": 357,
   "metadata": {
    "collapsed": true
   },
   "outputs": [],
   "source": [
    "(rate,sig1) = wav.read(\"richard3.wav\")\n",
    "(rate,sig2) = wav.read(\"amy3.wav\")\n",
    "(rate,sig3) = wav.read(\"derek3.wav\")\n",
    "(rate,sig4) = wav.read(\"paolo3.wav\")\n",
    "(rate,sig5) = wav.read(\"nilofer3.wav\")\n",
    "(rate,sig6) = wav.read(\"amy3.wav\")\n",
    "(rate,sig7) = wav.read(\"nilofer3.wav\")\n",
    "\n",
    "\n",
    "People =[sig4, sig2, sig3, sig1, sig5, sig6, sig7]\n",
    "Sigs=[]\n",
    "\n",
    "Clusters_True = []\n",
    "Clusters_Pred = []\n",
    "Clusters_Temp = []\n",
    "\n",
    "k=1\n",
    "c = 0\n",
    "for sig in People:\n",
    "    while((2000*k)<sig.shape[0] and k<20):\n",
    "        if(sig.ndim==1):\n",
    "            k = k+1\n",
    "            continue\n",
    "        else:\n",
    "            sign1 = sig[(k-1)*2000: k*2000]\n",
    "            Sigs.append(sign1[:,0])\n",
    "            Clusters_True.append(c)\n",
    "        k = k+1\n",
    "    k=1\n",
    "    c = c+1\n",
    "    \n",
    "for i in range(0, len(Clusters_True)):\n",
    "    Clusters_Pred.append(i)\n",
    "    Clusters_Temp.append(-1)\n",
    "    \n",
    "num = len(Sigs)\n",
    "br_klast = 0\n",
    "        \n",
    "mfcc_feat = np.copy(speech.mfcc(Sigs[0]))\n",
    "Lengths = []#mfcc lengths\n",
    "Mfccs = []\n",
    "Freqs = []\n",
    "    \n",
    "for i in range(0, num):\n",
    "    mfcc = speech.mfcc(Sigs[i])\n",
    "    Mfccs.append(mfcc)\n",
    "    if(i>0):\n",
    "         mfcc_feat = np.vstack((mfcc_feat, speech.mfcc(Sigs[i])))\n",
    "    Lengths.append(mfcc.shape[0])   \n",
    "    \n",
    "Means = fit_samples(mfcc_feat, num)\n",
    "\n",
    "for i in range(0, num):\n",
    "    freq = Means[i]\n",
    "    freq_sum = np.sum(freq)\n",
    "    freq = (freq_sum - freq)/freq_sum\n",
    "    Freqs.append(freq)\n",
    "    \n",
    "M = np.zeros((num,num))\n",
    "for i in range(0,num):\n",
    "    for j in range(0,num):\n",
    "        if(i==j):\n",
    "            M[i][j]=0\n",
    "        else:\n",
    "            M[i][j] = np.abs(dist.cosine(Freqs[i], Freqs[j]))\n",
    "        "
   ]
  },
  {
   "cell_type": "code",
   "execution_count": 358,
   "metadata": {},
   "outputs": [
    {
     "name": "stdout",
     "output_type": "stream",
     "text": [
      "[0, 1, 2, 3, 4, 5, 6, 7, 8, 9, 10, 11, 12, 13, 14, 15, 16, 12, 18, 12, 20, 21, 22, 12, 24, 25, 26, 12, 12, 29, 12, 12, 12, 33, 34, 12, 36, 37, 38, 39, 12, 41, 12, 43, 12, 45, 46, 47, 12, 49, 12, 51, 12, 12, 12, 12, 56, 57, 58, 12, 12, 12, 62, 12, 12, 65, 66, 67, 68, 69, 70, 71, 72, 12, 74, 12, 76, 12, 78, 12, 80, 12, 82, 83, 12, 12, 86, 12, 12, 12, 90, 12, 92, 93, 94, 95, 96, 97, 98, 12, 100, 101, 102, 103, 104, 105, 106, 107, 108, 109, 110, 12, 112, 113]\n"
     ]
    }
   ],
   "source": [
    "ind = 1\n",
    "br_izb = 0\n",
    "penalty = 3.0\n",
    "SigTest = Sigs\n",
    "MeansT = Means\n",
    "while(ind>0 and num>2):\n",
    "    (Means, Mfccs, Sigs, Lengths, Freqs, M, ind) = calculate(Means, Mfccs, Sigs, Lengths, Freqs, M, num, penalty)\n",
    "    num = num-1\n",
    "    \n",
    "print(Clusters_Pred)\n"
   ]
  },
  {
   "cell_type": "code",
   "execution_count": 359,
   "metadata": {},
   "outputs": [
    {
     "data": {
      "text/plain": [
       "0.01313346497687151"
      ]
     },
     "execution_count": 359,
     "metadata": {},
     "output_type": "execute_result"
    }
   ],
   "source": [
    "metrics.adjusted_mutual_info_score(Clusters_True, Clusters_Pred)"
   ]
  },
  {
   "cell_type": "code",
   "execution_count": 360,
   "metadata": {},
   "outputs": [
    {
     "data": {
      "text/plain": [
       "0.022856117689271611"
      ]
     },
     "execution_count": 360,
     "metadata": {},
     "output_type": "execute_result"
    }
   ],
   "source": [
    "metrics.adjusted_rand_score(Clusters_True, Clusters_Pred)"
   ]
  },
  {
   "cell_type": "code",
   "execution_count": null,
   "metadata": {},
   "outputs": [],
   "source": []
  },
  {
   "cell_type": "code",
   "execution_count": 361,
   "metadata": {},
   "outputs": [
    {
     "name": "stdout",
     "output_type": "stream",
     "text": [
      "[[  4.48095238e+01   2.65476190e+00  -5.37857143e+01 ...,   2.63154762e+02\n",
      "    2.32690476e+02   3.71440476e+02]\n",
      " [  1.43580000e+04   1.29950000e+04   1.12420000e+04 ...,  -4.74800000e+03\n",
      "   -5.43600000e+03  -5.89500000e+03]\n",
      " [ -4.20000000e+01  -3.20000000e+01  -3.70000000e+01 ...,   1.56530000e+04\n",
      "    1.57200000e+04   1.52690000e+04]\n",
      " [ -1.44000000e+03  -1.29200000e+03  -1.16800000e+03 ...,   1.99300000e+03\n",
      "    2.09800000e+03   2.26600000e+03]\n",
      " [  2.16250000e+02   2.94333333e+02   3.47666667e+02 ...,  -7.46458333e+02\n",
      "   -7.07458333e+02  -6.14791667e+02]]\n"
     ]
    },
    {
     "data": {
      "image/png": "[encoded data removed]",
      "text/plain": [
       "<matplotlib.figure.Figure at 0x7f1ddab29450>"
      ]
     },
     "metadata": {},
     "output_type": "display_data"
    }
   ],
   "source": [
    "kmeans = KMeans(n_clusters=5)\n",
    "kmeans.fit(SigTest)\n",
    "\n",
    "labels = kmeans.labels_\n",
    "pom = (zip(labels, SigTest))\n",
    "centroids = kmeans.cluster_centers_\n",
    "print((centroids))\n",
    "\n",
    "for i in range(5):\n",
    "    d = np.array([]).reshape(0,2000)\n",
    "    for j in range(len(pom)):\n",
    "        if (pom[j][0] == i):\n",
    "            d = np.r_[d, [pom[j][1].tolist()]]\n",
    "    pyplot.plot(d[:,0],d[:,1],'o')        \n",
    "    lines = pyplot.plot(centroids[i,0],centroids[i,1],'kx')\n",
    "    pyplot.setp(lines,ms=15.0)\n",
    "    pyplot.setp(lines,mew=2.0)\n",
    "pyplot.show()"
   ]
  },
  {
   "cell_type": "code",
   "execution_count": 362,
   "metadata": {},
   "outputs": [
    {
     "name": "stdout",
     "output_type": "stream",
     "text": [
      "[[ 16.16304098  27.14929672  -2.03984972   0.10939951 -22.26125481\n",
      "  -13.47354266  -7.22345482   1.71078596 -11.4237802  -10.99287366\n",
      "    2.6782676   -4.08989845  -8.12838593]\n",
      " [ 14.97286536  24.44452795   0.32291252   6.1075657  -12.66044411\n",
      "    7.2396079   13.95148011  14.73195442  -6.52469258 -15.27560804\n",
      "   -9.82061462  -2.66951011  -7.23954885]\n",
      " [ 16.48975332  12.10378361 -13.91769881  31.22925307  -8.72705237\n",
      "   16.66986959   2.37155166  21.1826213   -0.67613332 -12.41853851\n",
      "    7.45987981  -9.95737567   5.78517249]\n",
      " [ 14.1085282   16.00046368 -11.64146602   2.76386948 -20.70942712\n",
      "   15.74260094 -11.03632549 -14.24833248 -23.6829447  -22.33363742\n",
      "   -0.57736613  -2.76858473  -2.5284832 ]\n",
      " [ 16.53883846  -6.96655375 -31.82665718  29.15256498 -28.45017134\n",
      "    8.19394951   3.44738433  -8.82572997  16.86712617 -11.3316234\n",
      "    3.88792117  -1.53873695  -1.9498361 ]]\n"
     ]
    },
    {
     "data": {
      "image/png": "[encoded data removed]",
      "text/plain": [
       "<matplotlib.figure.Figure at 0x7f1dd5e32410>"
      ]
     },
     "metadata": {},
     "output_type": "display_data"
    }
   ],
   "source": [
    "Means = fit_samples(mfcc_feat, 5)\n",
    "\n",
    "print(Means)\n",
    "\n",
    "for i in range(5):\n",
    "    pyplot.plot(mfcc_feat[:,0],mfcc_feat[:,1],'.')\n",
    "    lines = pyplot.plot(Means[i,0], Means[i,1],'kx')\n",
    "    pyplot.setp(lines,ms=15.0)\n",
    "    pyplot.setp(lines,mew=2.0)\n",
    "pyplot.show()"
   ]
  }
 ],
 "metadata": {
  "kernelspec": {
   "display_name": "Python 2",
   "language": "python",
   "name": "python2"
  },
  "language_info": {
   "codemirror_mode": {
    "name": "ipython",
    "version": 2
   },
   "file_extension": ".py",
   "mimetype": "text/x-python",
   "name": "python",
   "nbconvert_exporter": "python",
   "pygments_lexer": "ipython2",
   "version": "2.7.13"
  }
 },
 "nbformat": 4,
 "nbformat_minor": 2
}
