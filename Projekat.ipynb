{
 "cells": [
  {
   "cell_type": "code",
   "execution_count": 1,
   "metadata": {
    "collapsed": false
   },
   "outputs": [],
   "source": [
    "import numpy as np\n",
    "import scipy as sp\n",
    "import matplotlib.pyplot as plt\n",
    "from sklearn import metrics\n",
    "from sklearn.cluster import KMeans\n",
    "import scipy.signal\n",
    "import scipy.cluster.vq as vq\n",
    "import scipy.io.wavfile as wav\n",
    "import python_speech_features as speech\n",
    "from sklearn import mixture\n",
    "from sklearn.mixture import GaussianMixture as gmm\n",
    "import scipy.spatial.distance as dist\n",
    "import math"
   ]
  },
  {
   "cell_type": "code",
   "execution_count": 2,
   "metadata": {
    "collapsed": false
   },
   "outputs": [],
   "source": [
    "def BIC(k, Sigs, Koefs, Lengths, penalty):\n",
    "    P1 = Lengths[Koefs[k][0]]* np.log(np.abs(np.cov(Sigs[Koefs[k][0]])+0.0001))\n",
    "    P2 = Lengths[Koefs[k][1]] * np.log(np.abs(np.cov(Sigs[Koefs[k][1]])+0.0001))\n",
    "    P3 = (Lengths[Koefs[k][0]]+Lengths[Koefs[k][1]])*np.log(np.abs(np.linalg.det(np.cov(Sigs[Koefs[k][0]], Sigs[Koefs[k][1]]))+0.0001))\n",
    "    bic= 0.5*P1 + 0.5*P2-0.5*P3  + penalty*(2.5*(Lengths[Koefs[k][0]]+Lengths[Koefs[k][1]]))\n",
    "    print(bic)\n",
    "    return bic"
   ]
  },
  {
   "cell_type": "code",
   "execution_count": 63,
   "metadata": {
    "collapsed": false
   },
   "outputs": [],
   "source": [
    "def fit_samples(samples, num):\n",
    "\tgmix = mixture.GaussianMixture(n_components=num, covariance_type='full')\n",
    "\tgmix.fit(samples)\n",
    "\treturn (gmix.means_)\n",
    "\n",
    "#glavna funkcija:\n",
    "def calculate(Means, Mfccs, Sigs, Lengths, Freqs, M, num, penalty):\n",
    "    N = min(num, 25)\n",
    "    \n",
    "    global ind\n",
    "    \n",
    "    Koefs = []\n",
    "    for i in range(0, N):\n",
    "        Koefs.append([0,0])\n",
    "    \n",
    "    MaxVals = np.zeros((N))\n",
    "    \n",
    "    #racunanje N najblizih koeficijenata\n",
    "    for i in range(0,num-1):\n",
    "        for j in range(2,num):\n",
    "            if(j>i):\n",
    "                \n",
    "                for l in range(0,N):\n",
    "                    if(M[i][j]>=MaxVals[l]):\n",
    "                        for k in range(N, l+1):\n",
    "                            MaxVals[k]=MaxVals[k-1]\n",
    "                            Koefs[k] = Koefs[k-1]\n",
    "                        MaxVals[l] = M[i][j]\n",
    "                        Koefs[l] = [i,j]\n",
    "                        break\n",
    "        \n",
    "    #racunanje najveceg BIC\n",
    "    Bics = []\n",
    "        \n",
    "    for i in range(0, N):\n",
    "        if(Koefs[i] == [0,0]):\n",
    "            N = N-1\n",
    "            continue\n",
    "        Bics.append(BIC(i, Sigs, Koefs, Lengths, penalty))\n",
    "    \n",
    "    if(len(Bics)<=1):\n",
    "        ind =-1\n",
    "        return\n",
    "        \n",
    "    max_bic = Bics[0]\n",
    "    max_i=0\n",
    "    for i in range(1,N):\n",
    "        if(Bics[i]>max_bic):\n",
    "            max_bic = Bics[i]\n",
    "            max_i = i\n",
    "        \n",
    "    Means_new = []\n",
    "    Mfccs_new = []\n",
    "    Sigs_new = []\n",
    "    Lengths_new = []\n",
    "    Freqs_new = []\n",
    "    M_new = np.zeros((num, num))\n",
    "    \n",
    "    if(max_bic<0):\n",
    "        return (Means_new, Mfccs_new, Sigs, Lengths_new, Freqs_new, M_new, -1)\n",
    "    \n",
    "    [i,j] = Koefs[max_i]\n",
    "    spoji_klastere(i, j)\n",
    "    sig_new = 0.5*Sigs[i]+0.5*Sigs[j]\n",
    "    means_new = 0.5*Means[i]+0.5*Means[j]\n",
    "    \n",
    "    for k in range (0,num):\n",
    "        if(k!=i and k!=j):\n",
    "            Sigs_new.append(Sigs[k])\n",
    "            Mfccs_new.append(Mfccs[k])\n",
    "            Means_new.append(Means[k])\n",
    "            Lengths_new.append(Mfccs[k].shape[0])\n",
    "            Freqs_new.append(Freqs[k])\n",
    "    \n",
    "    for k in range(0, num-1):\n",
    "        if(k<i):\n",
    "            for l in range(0, num-1):\n",
    "                if(l<i):\n",
    "                    M_new[k][l]=M[k][l]\n",
    "                else:\n",
    "                    M_new[k][l]=M[k][l+1]\n",
    "        else:\n",
    "            for l in range(0, num-1):\n",
    "                if(l<i):\n",
    "                    M_new[k][l]=M[k+1][l]\n",
    "                else:\n",
    "                    M_new[k][l]=M[k+1][l+1]\n",
    "                    \n",
    "    for k in range(0, num-1):\n",
    "        if(k<j):\n",
    "            for l in range(0, num-1):\n",
    "                if(l<j):\n",
    "                    M_new[k][l]=M[k][l]\n",
    "                else:\n",
    "                    M_new[k][l]=M[k][l+1]\n",
    "        else:\n",
    "            for l in range(0, num-1):\n",
    "                if(l<j):\n",
    "                    M_new[k][l]=M[k+1][l]\n",
    "                else:\n",
    "                    M_new[k][l]=M[k+1][l+1]\n",
    "\n",
    "    freq = means_new\n",
    "    freq_sum = np.sum(freq)\n",
    "    freq = (freq_sum - freq)/freq_sum\n",
    "    \n",
    "    for k in range(0, num-2):\n",
    "        M_new[num-2][k] = np.abs(dist.cosine(Freqs[k], freq))\n",
    "               \n",
    "    Lengths_new.append(speech.mfcc(sig_new).shape[0])\n",
    "    Means_new.append(means_new)        \n",
    "    Mfccs_new.append(speech.mfcc(sig_new))\n",
    "    Sigs_new.append(sig_new)\n",
    "    Freqs_new.append(freq)\n",
    "    return (Means_new, Mfccs_new, Sigs_new, Lengths_new, Freqs_new, M_new, 1)"
   ]
  },
  {
   "cell_type": "code",
   "execution_count": 64,
   "metadata": {
    "collapsed": true
   },
   "outputs": [],
   "source": [
    "def spoji_klastere(i, j):   \n",
    "    print(i,j)\n",
    "    global Clusters_Temp\n",
    "    global Clusters_Pred\n",
    "    global Clusters_True\n",
    "    global br_izb\n",
    "    \n",
    "    if(i >= num-br_izb and j>=num-br_izb):\n",
    "        clust_1 = min(Clusters_Temp[i], Clusters_Temp[j])\n",
    "        clust_2 = max(Clusters_Temp[i], Clusters_Temp[j])\n",
    "        br_izb = br_izb-1\n",
    "    elif(i < num-br_izb and j>= num-br_izb): \n",
    "        clust_1 = min(Clusters_Pred[i], Clusters_Temp[j])\n",
    "        clust_2 = max(Clusters_Pred[i], Clusters_Temp[j])\n",
    "    else:\n",
    "        clust_1 = min(Clusters_Pred[i], Clusters_Pred[j])\n",
    "        clust_2 = max(Clusters_Pred[i], Clusters_Pred[j])\n",
    "        br_izb = br_izb+1\n",
    "    \n",
    "    for k in range(0, len(Clusters_Pred)):\n",
    "            if(Clusters_Pred[k]==clust_2):\n",
    "                Clusters_Pred[k]=clust_1\n",
    "                \n",
    "    for k in range(0, len(Clusters_Temp)):\n",
    "            if(Clusters_Temp[k]==clust_2):\n",
    "                Clusters_Temp[k]=clust_1\n",
    "    \n",
    "    leng = len(Clusters_Temp)\n",
    "    Clusters_Temp1 = []\n",
    "    for k in range(0, leng):\n",
    "        if(k!=i and k!=j):\n",
    "            Clusters_Temp1.append(Clusters_Temp[k])\n",
    "    \n",
    "    Clusters_Temp1.append(clust_1)\n",
    "    \n",
    "    Clusters_Temp = Clusters_Temp1"
   ]
  },
  {
   "cell_type": "code",
   "execution_count": 88,
   "metadata": {
    "collapsed": false
   },
   "outputs": [],
   "source": [
    "(rate,sig1) = wav.read(\"richard3.wav\")\n",
    "(rate,sig2) = wav.read(\"amy3.wav\")\n",
    "(rate,sig3) = wav.read(\"derek3.wav\")\n",
    "(rate,sig4) = wav.read(\"paolo3.wav\")\n",
    "(rate,sig5) = wav.read(\"nilofer3.wav\")\n",
    "\n",
    "People =[sig4, sig2, sig3, sig1, sig5]\n",
    "Sigs=[]\n",
    "\n",
    "Clusters_True = []\n",
    "Clusters_Pred = []\n",
    "Clusters_Temp = []\n",
    "\n",
    "k=1\n",
    "c = 0\n",
    "for sig in People:\n",
    "    while((2000*k)<sig.shape[0] and k<20):\n",
    "        if(sig.ndim==1):\n",
    "            k = k+1\n",
    "            continue\n",
    "        else:\n",
    "            sign1 = sig[(k-1)*2000: k*2000]\n",
    "            Sigs.append(sign1[:,0])\n",
    "            Clusters_True.append(c)\n",
    "        k = k+1\n",
    "    k=1\n",
    "    c = c+1\n",
    "    \n",
    "for i in range(0, len(Clusters_True)):\n",
    "    Clusters_Pred.append(i)\n",
    "    Clusters_Temp.append(-1)\n",
    "    \n",
    "num = len(Sigs)\n",
    "br_klast = 0\n",
    "        \n",
    "mfcc_feat = np.copy(speech.mfcc(Sigs[0]))\n",
    "Lengths = []#mfcc lengths\n",
    "Mfccs = []\n",
    "Freqs = []\n",
    "    \n",
    "for i in range(0, num):\n",
    "    mfcc = speech.mfcc(Sigs[i])\n",
    "    Mfccs.append(mfcc)\n",
    "    if(i>0):\n",
    "         mfcc_feat = np.vstack((mfcc_feat, speech.mfcc(Sigs[i])))\n",
    "    Lengths.append(mfcc.shape[0])   \n",
    "    \n",
    "Means = fit_samples(mfcc_feat, num)\n",
    "\n",
    "for i in range(0, num):\n",
    "    freq = Means[i]\n",
    "    freq_sum = np.sum(freq)\n",
    "    freq = (freq_sum - freq)/freq_sum\n",
    "    Freqs.append(freq)\n",
    "    \n",
    "M = np.zeros((num,num))\n",
    "for i in range(0,num):\n",
    "    for j in range(0,num):\n",
    "        if(i==j):\n",
    "            M[i][j]=0\n",
    "        else:\n",
    "            M[i][j] = np.abs(dist.cosine(Freqs[i], Freqs[j]))\n",
    "        "
   ]
  },
  {
   "cell_type": "code",
   "execution_count": 93,
   "metadata": {
    "collapsed": false
   },
   "outputs": [
    {
     "name": "stdout",
     "output_type": "stream",
     "text": [
      "[0, 0, 0, 0, 4, 0, 0, 0, 8, 9, 10, 0, 0, 13, 14, 0, 16, 0, 18, 19, 20, 0, 22, 23, 0, 0, 26, 0, 0, 0, 30, 31, 0, 0, 0, 35, 36, 37, 38, 0, 40, 41, 0, 43, 44, 45, 0, 47, 48, 49, 50, 51, 52, 0, 0, 55, 56, 57, 58, 0, 0, 61, 0, 63, 64, 65, 66, 67, 0, 69, 70, 71, 72, 0, 74, 75]\n"
     ]
    }
   ],
   "source": [
    "ind = 1\n",
    "br_izb = 0\n",
    "penalty = 3.0\n",
    "SigTest = Sigs\n",
    "\n",
    "while(ind>0 and num>2):\n",
    "    (Means, Mfccs, Sigs, Lengths, Freqs, M, ind) = calculate(Means, Mfccs, Sigs, Lengths, Freqs, M, num, penalty)\n",
    "    num = num-1\n",
    "    \n",
    "print(Clusters_Pred)"
   ]
  },
  {
   "cell_type": "code",
   "execution_count": 90,
   "metadata": {
    "collapsed": false
   },
   "outputs": [
    {
     "data": {
      "text/plain": [
       "0.0052518930078717914"
      ]
     },
     "execution_count": 90,
     "metadata": {},
     "output_type": "execute_result"
    }
   ],
   "source": [
    "metrics.adjusted_mutual_info_score(Clusters_True, Clusters_Pred)"
   ]
  },
  {
   "cell_type": "code",
   "execution_count": 91,
   "metadata": {
    "collapsed": false
   },
   "outputs": [
    {
     "data": {
      "text/plain": [
       "0.014502307185234001"
      ]
     },
     "execution_count": 91,
     "metadata": {},
     "output_type": "execute_result"
    }
   ],
   "source": [
    "metrics.adjusted_rand_score(Clusters_True, Clusters_Pred)"
   ]
  },
  {
   "cell_type": "code",
   "execution_count": 86,
   "metadata": {
    "collapsed": false
   },
   "outputs": [],
   "source": [
    "kmeans = KMeans().fit(SigTest)"
   ]
  },
  {
   "cell_type": "code",
   "execution_count": 92,
   "metadata": {
    "collapsed": false
   },
   "outputs": [
    {
     "name": "stdout",
     "output_type": "stream",
     "text": [
      "[0, 0, 0, 0, 4, 0, 0, 0, 8, 9, 10, 0, 0, 13, 14, 0, 16, 0, 18, 19, 20, 0, 22, 23, 0, 0, 26, 0, 0, 0, 30, 31, 0, 0, 0, 35, 36, 37, 38, 0, 40, 41, 0, 43, 44, 45, 0, 47, 48, 49, 50, 51, 52, 0, 0, 55, 56, 57, 58, 0, 0, 61, 0, 63, 64, 65, 66, 67, 0, 69, 70, 71, 72, 0, 74, 75]\n"
     ]
    }
   ],
   "source": []
  },
  {
   "cell_type": "code",
   "execution_count": null,
   "metadata": {
    "collapsed": true
   },
   "outputs": [],
   "source": []
  }
 ],
 "metadata": {
  "kernelspec": {
   "display_name": "Python 3",
   "language": "python",
   "name": "python3"
  },
  "language_info": {
   "codemirror_mode": {
    "name": "ipython",
    "version": 3
   },
   "file_extension": ".py",
   "mimetype": "text/x-python",
   "name": "python",
   "nbconvert_exporter": "python",
   "pygments_lexer": "ipython3",
   "version": "3.6.0"
  }
 },
 "nbformat": 4,
 "nbformat_minor": 2
}
